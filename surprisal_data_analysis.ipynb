{
 "cells": [
  {
   "cell_type": "markdown",
   "metadata": {},
   "source": [
    "## Analysis of Surprisal"
   ]
  },
  {
   "cell_type": "code",
   "execution_count": null,
   "metadata": {},
   "outputs": [],
   "source": [
    "import matplotlib.pyplot as plt\n",
    "import seaborn as sns\n",
    "from scipy.stats import ttest_ind"
   ]
  },
  {
   "cell_type": "code",
   "execution_count": null,
   "metadata": {},
   "outputs": [],
   "source": [
    "answer_df = pd.read_csv('surprisal_data/answer_df.csv')"
   ]
  },
  {
   "cell_type": "code",
   "execution_count": null,
   "metadata": {},
   "outputs": [],
   "source": [
    "surp_model1 = answer_df['EleutherAI/pythia-70m_Surprisal'].tolist()\n",
    "surp_model2 = answer_df['EleutherAI/pythia-160m_Surprisal'].tolist()\n",
    "surp_model3 = answer_df['EleutherAI/pythia-410m_Surprisal'].tolist()\n",
    "\n",
    "plt.title('Range of Surprisal Values by Model Size')\n",
    "plt.hist(surp_model1, bins=150, alpha=0.5, label='70m')\n",
    "plt.hist(surp_model2, bins=150, alpha=0.5, label='160m')\n",
    "plt.hist(surp_model3, bins=150, alpha=0.5, label='410m')\n",
    "plt.legend(loc='upper right')\n",
    "plt.xlabel('Surprisal Value')\n",
    "plt.xlim(0, 40)\n",
    "plt.ylabel('Frequency')\n",
    "plt.show()"
   ]
  },
  {
   "cell_type": "code",
   "execution_count": null,
   "metadata": {},
   "outputs": [],
   "source": [
    "# summary statistics:\n",
    "\n",
    "print(\"Model 70m:\")\n",
    "print(answer_df['EleutherAI/pythia-70m_Surprisal'].describe())\n",
    "\n",
    "print(\"Model 160m:\")\n",
    "print(answer_df['EleutherAI/pythia-160m_Surprisal'].describe())\n",
    "\n",
    "print(\"Model 410m:\")\n",
    "print(answer_df['EleutherAI/pythia-410m_Surprisal'].describe())"
   ]
  },
  {
   "cell_type": "code",
   "execution_count": null,
   "metadata": {},
   "outputs": [],
   "source": [
    "print(\"##### Model 70m and 160m: #####\")\n",
    "res = ttest_ind(surp_model1, surp_model2, alternative='greater')\n",
    "\n",
    "print(f\"t-statistic: {res.statistic}\")\n",
    "print(f\"p-value: {res.pvalue}\")\n",
    "print(f\"H0: The mean surprisal values of model 1 are less than or equal to model 2\")\n",
    "print(f\"H1: The mean surprisal values of model 1 are greater than model 2\")\n",
    "\n",
    "if res.pvalue < 0.05:\n",
    "    print(\"Reject the null hypothesis\")\n",
    "else:\n",
    "    print(\"Fail to reject the null hypothesis\")\n",
    "\n",
    "print(\"##### Model 160m and 410m: #####\")\n",
    "res = ttest_ind(surp_model2, surp_model3, alternative='greater')\n",
    "\n",
    "print(f\"t-statistic: {res.statistic}\")\n",
    "print(f\"p-value: {res.pvalue}\")\n",
    "print(f\"H0: The mean surprisal values of model 2 are less than or equal to model 3\")\n",
    "print(f\"H1: The mean surprisal values of model 2 are greater than model 3\")\n",
    "\n",
    "if res.pvalue < 0.05:\n",
    "    print(\"Reject the null hypothesis\")\n",
    "else:\n",
    "    print(\"Fail to reject the null hypothesis\")"
   ]
  }
 ],
 "metadata": {
  "kernelspec": {
   "display_name": "Python 3",
   "language": "python",
   "name": "python3"
  },
  "language_info": {
   "name": "python",
   "version": "3.12.4"
  }
 },
 "nbformat": 4,
 "nbformat_minor": 2
}
